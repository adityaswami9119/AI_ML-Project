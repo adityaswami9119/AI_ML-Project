{
 "cells": [
  {
   "cell_type": "code",
   "execution_count": 1,
   "id": "a041d99d",
   "metadata": {},
   "outputs": [],
   "source": [
    "import pandas as pd\n",
    "from sklearn.model_selection import train_test_split\n",
    "from sklearn.preprocessing import LabelEncoder, StandardScaler\n",
    "from sklearn.impute import SimpleImputer\n",
    "from sklearn.linear_model import LogisticRegression\n",
    "from sklearn.tree import DecisionTreeClassifier\n",
    "from sklearn.svm import SVC\n",
    "from sklearn.neighbors import KNeighborsClassifier\n",
    "from sklearn.ensemble import RandomForestClassifier\n",
    "from sklearn.metrics import accuracy_score, classification_report"
   ]
  },
  {
   "cell_type": "code",
   "execution_count": 2,
   "id": "3cf05aff",
   "metadata": {},
   "outputs": [],
   "source": [
    "\n",
    "data = pd.read_csv(\"h1n1_vaccine_prediction.csv\")"
   ]
  },
  {
   "cell_type": "code",
   "execution_count": 3,
   "id": "552f3bf5",
   "metadata": {},
   "outputs": [],
   "source": [
    "data = data.drop(columns=['unique_id'])\n",
    "X = data.drop(columns=['h1n1_vaccine'])\n",
    "y = data['h1n1_vaccine']\n"
   ]
  },
  {
   "cell_type": "code",
   "execution_count": 4,
   "id": "be337a23",
   "metadata": {},
   "outputs": [],
   "source": [
    "imputer = SimpleImputer(strategy='most_frequent')\n",
    "X_imputed = pd.DataFrame(imputer.fit_transform(X), columns=X.columns)"
   ]
  },
  {
   "cell_type": "code",
   "execution_count": 5,
   "id": "63c53f78",
   "metadata": {},
   "outputs": [],
   "source": [
    "label_encoders = {}\n",
    "for col in X_imputed.select_dtypes(include=['object']).columns:\n",
    "    label_encoders[col] = LabelEncoder()\n",
    "    X_imputed[col] = label_encoders[col].fit_transform(X_imputed[col])"
   ]
  },
  {
   "cell_type": "code",
   "execution_count": 6,
   "id": "d9571ebf",
   "metadata": {},
   "outputs": [],
   "source": [
    "scaler = StandardScaler()\n",
    "X_scaled = pd.DataFrame(scaler.fit_transform(X_imputed), columns=X_imputed.columns)\n"
   ]
  },
  {
   "cell_type": "code",
   "execution_count": 7,
   "id": "d4a6e3d3",
   "metadata": {},
   "outputs": [],
   "source": [
    "X_train, X_test, y_train, y_test = train_test_split(X_scaled, y, test_size=0.2, random_state=42)"
   ]
  },
  {
   "cell_type": "code",
   "execution_count": 8,
   "id": "8cc6bb89",
   "metadata": {},
   "outputs": [],
   "source": [
    "X_train_np = X_train.to_numpy()\n",
    "X_test_np = X_test.to_numpy()\n",
    "y_train_np = y_train.to_numpy()\n",
    "y_test_np = y_test.to_numpy()\n"
   ]
  },
  {
   "cell_type": "code",
   "execution_count": 9,
   "id": "e2f3e5af",
   "metadata": {},
   "outputs": [],
   "source": [
    "models = {\n",
    "    'Logistic Regression': LogisticRegression(max_iter=1000, random_state=42),\n",
    "    'Decision Tree': DecisionTreeClassifier(random_state=42),\n",
    "    'SVM': SVC(random_state=42),\n",
    "    'K-Nearest Neighbors': KNeighborsClassifier(),\n",
    "    'Random Forest': RandomForestClassifier(random_state=42)\n",
    "}"
   ]
  },
  {
   "cell_type": "code",
   "execution_count": 10,
   "id": "c06c422f",
   "metadata": {},
   "outputs": [],
   "source": [
    "# Dictionary to store results\n",
    "results = {}\n",
    "\n",
    "# Train, predict, and evaluate each model\n",
    "for model_name, model in models.items():\n",
    "    if model_name == 'K-Nearest Neighbors':\n",
    "        # Use NumPy arrays for KNN\n",
    "        model.fit(X_train_np, y_train_np)\n",
    "        y_pred = model.predict(X_test_np)\n",
    "    else:\n",
    "        # Continue using DataFrames for other models\n",
    "        model.fit(X_train, y_train)\n",
    "        y_pred = model.predict(X_test)\n",
    "    \n",
    "    # Evaluate the model\n",
    "    accuracy = accuracy_score(y_test, y_pred)\n",
    "    report = classification_report(y_test, y_pred)\n",
    "    \n",
    "    # Store the results\n",
    "    results[model_name] = {\n",
    "        'accuracy': accuracy,\n",
    "        'classification_report': report\n",
    "    }"
   ]
  },
  {
   "cell_type": "code",
   "execution_count": 11,
   "id": "2d7bb26f",
   "metadata": {},
   "outputs": [
    {
     "name": "stdout",
     "output_type": "stream",
     "text": [
      "Model: Logistic Regression\n",
      "Accuracy: 0.8399475851740921\n",
      "Classification Report:\n",
      "              precision    recall  f1-score   support\n",
      "\n",
      "           0       0.86      0.95      0.90      4212\n",
      "           1       0.70      0.42      0.53      1130\n",
      "\n",
      "    accuracy                           0.84      5342\n",
      "   macro avg       0.78      0.69      0.71      5342\n",
      "weighted avg       0.83      0.84      0.82      5342\n",
      "\n",
      "--------------------------------------------------\n",
      "Model: Decision Tree\n",
      "Accuracy: 0.7444777236989891\n",
      "Classification Report:\n",
      "              precision    recall  f1-score   support\n",
      "\n",
      "           0       0.85      0.82      0.83      4212\n",
      "           1       0.41      0.46      0.43      1130\n",
      "\n",
      "    accuracy                           0.74      5342\n",
      "   macro avg       0.63      0.64      0.63      5342\n",
      "weighted avg       0.76      0.74      0.75      5342\n",
      "\n",
      "--------------------------------------------------\n",
      "Model: SVM\n",
      "Accuracy: 0.8388244103332085\n",
      "Classification Report:\n",
      "              precision    recall  f1-score   support\n",
      "\n",
      "           0       0.86      0.95      0.90      4212\n",
      "           1       0.69      0.43      0.53      1130\n",
      "\n",
      "    accuracy                           0.84      5342\n",
      "   macro avg       0.78      0.69      0.72      5342\n",
      "weighted avg       0.83      0.84      0.82      5342\n",
      "\n",
      "--------------------------------------------------\n",
      "Model: K-Nearest Neighbors\n",
      "Accuracy: 0.8096218644702359\n",
      "Classification Report:\n",
      "              precision    recall  f1-score   support\n",
      "\n",
      "           0       0.85      0.93      0.88      4212\n",
      "           1       0.58      0.37      0.45      1130\n",
      "\n",
      "    accuracy                           0.81      5342\n",
      "   macro avg       0.71      0.65      0.67      5342\n",
      "weighted avg       0.79      0.81      0.79      5342\n",
      "\n",
      "--------------------------------------------------\n",
      "Model: Random Forest\n",
      "Accuracy: 0.83508049419693\n",
      "Classification Report:\n",
      "              precision    recall  f1-score   support\n",
      "\n",
      "           0       0.86      0.95      0.90      4212\n",
      "           1       0.69      0.40      0.51      1130\n",
      "\n",
      "    accuracy                           0.84      5342\n",
      "   macro avg       0.77      0.68      0.70      5342\n",
      "weighted avg       0.82      0.84      0.82      5342\n",
      "\n",
      "--------------------------------------------------\n"
     ]
    }
   ],
   "source": [
    "# Display the results for each model\n",
    "for model_name, result in results.items():\n",
    "    print(f\"Model: {model_name}\")\n",
    "    print(f\"Accuracy: {result['accuracy']}\")\n",
    "    print(f\"Classification Report:\\n{result['classification_report']}\")\n",
    "    print(\"-\" * 50)"
   ]
  },
  {
   "cell_type": "code",
   "execution_count": null,
   "id": "69f7ff8d",
   "metadata": {},
   "outputs": [],
   "source": []
  }
 ],
 "metadata": {
  "kernelspec": {
   "display_name": "Python 3 (ipykernel)",
   "language": "python",
   "name": "python3"
  },
  "language_info": {
   "codemirror_mode": {
    "name": "ipython",
    "version": 3
   },
   "file_extension": ".py",
   "mimetype": "text/x-python",
   "name": "python",
   "nbconvert_exporter": "python",
   "pygments_lexer": "ipython3",
   "version": "3.11.5"
  }
 },
 "nbformat": 4,
 "nbformat_minor": 5
}
